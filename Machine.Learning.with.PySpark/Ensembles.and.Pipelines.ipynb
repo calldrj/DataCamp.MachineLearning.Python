{
 "cells": [
  {
   "cell_type": "markdown",
   "metadata": {},
   "source": [
    "### Flight duration model: Pipeline stages\n",
    "You're going to create the stages for the flights duration model pipeline. You will use these in the next exercise to build a pipeline and to create a regression model.\n",
    "\n",
    "### Instructions\n",
    "Create an indexer to convert the 'org' column into an indexed column called 'org_idx'.   \n",
    "Create a one-hot encoder to convert the 'org_idx' and 'dow' columns into dummy variable columns called 'org_dummy' and 'dow_dummy'.  \n",
    "Create an assembler which will combine the 'km' column with the two dummy variable columns. The output column should be called 'features'.  \n",
    "Create a linear regression object to predict flight duration.  \n",
    "Note:: You might find it useful to revisit the slides from the lessons in the Slides panel next to the IPython Shell."
   ]
  },
  {
   "cell_type": "code",
   "execution_count": null,
   "metadata": {},
   "outputs": [],
   "source": [
    "# Convert categorical strings to index values\n",
    "indexer = StringIndexer(inputCol='org', outputCol='org_idx')\n",
    "\n",
    "# One-hot encode index values\n",
    "onehot = OneHotEncoderEstimator(\n",
    "    inputCols=['org_idx', 'dow'],\n",
    "    outputCols=['org_dummy', 'dow_dummy']\n",
    ")\n",
    "\n",
    "# Assemble predictors into a single column\n",
    "assembler = VectorAssembler(inputCols=['km', 'org_dummy', 'dow_dummy'], outputCol='features')\n",
    "\n",
    "# A linear regression object\n",
    "regression = LinearRegression(labelCol='duration')"
   ]
  },
  {
   "cell_type": "markdown",
   "metadata": {},
   "source": [
    "### Flight duration model: Pipeline model\n",
    "You're now ready to put those stages together in a pipeline.\n",
    "\n",
    "You'll construct the pipeline and then train the pipeline on the training data. This will apply each of the individual stages in the pipeline to the training data in turn. None of the stages will be exposed to the testing data at all: there will be no leakage!\n",
    "\n",
    "Once the entire pipeline has been trained it will then be used to make predictions on the testing data.\n",
    "\n",
    "The data are available as flights, which has been randomly split into flights_train and flights_test.\n",
    "\n",
    "### Instructions\n",
    "Import the class for creating a pipeline.  \n",
    "Create a pipeline object and specify the indexer, onehot, assembler and regression stages, in this order.  \n",
    "Train the pipeline on the training data.  \n",
    "Make predictions on the testing data."
   ]
  },
  {
   "cell_type": "code",
   "execution_count": null,
   "metadata": {},
   "outputs": [],
   "source": [
    "# Import class for creating a pipeline\n",
    "from pyspark.ml import Pipeline\n",
    "\n",
    "# Construct a pipeline\n",
    "pipeline = Pipeline(stages=[indexer, onehot, assembler, regression])\n",
    "\n",
    "# Train the pipeline on the training data\n",
    "pipeline = pipeline.fit(flights_train)\n",
    "\n",
    "# Make predictions on the testing data\n",
    "predictions = pipeline.transform(flights_test)"
   ]
  },
  {
   "cell_type": "markdown",
   "metadata": {},
   "source": [
    "### SMS spam pipeline\n",
    "You haven't looked at the SMS data for quite a while. Last time we did the following:\n",
    "\n",
    "split the text into tokens\n",
    "removed stop words\n",
    "applied the hashing trick\n",
    "converted the data from counts to IDF and\n",
    "trained a linear regression model.\n",
    "Each of these steps was done independently. This seems like a great application for a pipeline!\n",
    "\n",
    "### Instructions\n",
    "Create an object for splitting text into tokens.  \n",
    "Create an object to remove stop words.   \n",
    "Rather than explicitly giving the input column name, use the getOutputCol() method on the previous object.  \n",
    "Create objects for applying the hashing trick and transforming the data into a TF-IDF.   \n",
    "Use the getOutputCol() method again.\n",
    "Create a pipeline which wraps all of the above steps as well as an object to create a Logistic Regression model."
   ]
  },
  {
   "cell_type": "code",
   "execution_count": null,
   "metadata": {},
   "outputs": [],
   "source": [
    "from pyspark.ml.feature import Tokenizer, StopWordsRemover, HashingTF, IDF\n",
    "\n",
    "# Break text into tokens at non-word characters\n",
    "tokenizer = Tokenizer(inputCol='text', outputCol='words')\n",
    "\n",
    "# Remove stop words\n",
    "remover = StopWordsRemover(inputCol=tokenizer.getOutputCol(), outputCol='terms')\n",
    "\n",
    "# Apply the hashing trick and transform to TF-IDF\n",
    "hasher = HashingTF(inputCol=remover.getOutputCol(), outputCol=\"hash\")\n",
    "idf = IDF(inputCol=hasher.getOutputCol(), outputCol=\"features\")\n",
    "\n",
    "# Create a logistic regression object and add everything to a pipeline\n",
    "logistic = LogisticRegression()\n",
    "pipeline = Pipeline(stages=[tokenizer, remover, hasher, idf, logistic])"
   ]
  },
  {
   "cell_type": "markdown",
   "metadata": {},
   "source": [
    "### Cross validating simple flight duration model\n",
    "You've already built a few models for predicting flight duration and evaluated them with a simple train/test split. However, cross-validation provides a much better way to evaluate model performance.\n",
    "\n",
    "In this exercise you're going to train a simple model for flight duration using cross-validation. Travel time is usually strongly correlated with distance, so using the km column alone should give a decent model.\n",
    "\n",
    "The data have been randomly split into flights_train and flights_test.\n",
    "\n",
    "The following classes have already been imported: LinearRegression, RegressionEvaluator, ParamGridBuilder and CrossValidator.\n",
    "\n",
    "### Instructions\n",
    "Create an empty parameter grid.   \n",
    "Create objects for building and evaluating a linear regression model.   \n",
    "The model should predict the \"duration\" field.  \n",
    "Create a cross-validator object. Provide values for the estimator, estimatorParamMaps and evaluator arguments.   Choose 5-fold cross validation.  \n",
    "Train and test the model across multiple folds of the training data."
   ]
  },
  {
   "cell_type": "code",
   "execution_count": null,
   "metadata": {},
   "outputs": [],
   "source": [
    "# Create an empty parameter grid\n",
    "params = ParamGridBuilder().build()\n",
    "\n",
    "# Create objects for building and evaluating a regression model\n",
    "regression = LinearRegression(labelCol='duration')\n",
    "evaluator = RegressionEvaluator(labelCol='duration')\n",
    "\n",
    "# Create a cross validator\n",
    "cv = CrossValidator(estimator=regression, \n",
    "                    estimatorParamMaps=params, \n",
    "                    evaluator=evaluator, \n",
    "                    numFolds=5,\n",
    "                    seed=13)\n",
    "\n",
    "# Train and test model on multiple folds of the training data\n",
    "cv = cv.fit(flights_train)\n",
    "\n",
    "# NOTE: Since cross-valdiation builds multiple models, the fit() method can take a little while to complete."
   ]
  },
  {
   "cell_type": "markdown",
   "metadata": {},
   "source": [
    "### Cross validating flight duration model pipeline\n",
    "The cross-validated model that you just built was simple, using km alone to predict duration.\n",
    "\n",
    "Another important predictor of flight duration is the origin airport. Flights generally take longer to get into the air from busy airports. Let's see if adding this predictor improves the model!\n",
    "\n",
    "In this exercise you'll add the org field to the model. However, since org is categorical, there's more work to be done before it can be included: it must first be transformed to an index and then one-hot encoded before being assembled with km and used to build the regression model. We'll wrap these operations up in a pipeline.\n",
    "\n",
    "The following objects have already been created:\n",
    "\n",
    "params — an empty parameter grid\n",
    "evaluator — a regression evaluator\n",
    "regression — a LinearRegression object with labelCol='duration'.\n",
    "All of the required classes have already been imported.\n",
    "\n",
    "### Instructions\n",
    "Create a string indexer. Specify the input and output fields as org and org_idx.   \n",
    "Create a one-hot encoder. Name the output field org_dummy.  \n",
    "Assemble the km and org_dummy fields into a single field called features.  \n",
    "Create a pipeline using the following operations: string indexer, one-hot encoder, assembler and linear regression. Use this to create a cross-validator."
   ]
  },
  {
   "cell_type": "code",
   "execution_count": null,
   "metadata": {},
   "outputs": [],
   "source": [
    "# Create an indexer for the org field\n",
    "indexer = StringIndexer(inputCol='org', outputCol='org_idx')\n",
    "\n",
    "# Create an one-hot encoder for the indexed org field\n",
    "onehot = OneHotEncoderEstimator(inputCols=[indexer.getOutputCol()], outputCols=['org_dummy'])\n",
    "\n",
    "# Assemble the km and one-hot encoded fields\n",
    "assembler = VectorAssembler(inputCols=['km', 'org_dummy'], outputCol='features')\n",
    "\n",
    "# Create a pipeline and cross-validator.\n",
    "pipeline = Pipeline(stages=[indexer, onehot, assembler, regression])\n",
    "cv = CrossValidator(estimator=pipeline,\n",
    "                    estimatorParamMaps=params,\n",
    "                    evaluator=evaluator)"
   ]
  },
  {
   "cell_type": "markdown",
   "metadata": {},
   "source": [
    "### Optimizing flights linear regression\n",
    "Up until now you've been using the default hyper-parameters when building your models. In this exercise you'll use cross validation to choose an optimal (or close to optimal) set of model hyper-parameters.\n",
    "\n",
    "The following have already been created:\n",
    "\n",
    "regression — a LinearRegression object  \n",
    "pipeline — a pipeline with string indexer, one-hot encoder, vector assembler and linear regression and  \n",
    "evaluator — a RegressionEvaluator object.\n",
    "### Instructions\n",
    "Create a parameter grid builder.  \n",
    "Add grids for with regression.regParam (values 0.01, 0.1, 1.0, and 10.0) and regression.elasticNetParam (values 0.0, 0.5, and 1.0).  \n",
    "Build the grid.  \n",
    "Create a cross validator, specifying five folds."
   ]
  },
  {
   "cell_type": "code",
   "execution_count": null,
   "metadata": {},
   "outputs": [],
   "source": [
    "# Create parameter grid\n",
    "params = ParamGridBuilder()\n",
    "\n",
    "# Add grids for two parameters\n",
    "params = params.addGrid(regression.regParam, [.01, .1, 1.0, 10.0]) \\\n",
    "               .addGrid(regression.elasticNetParam, [.0, .5, 1.0])\n",
    "\n",
    "# Build the parameter grid\n",
    "params = params.build()\n",
    "print('Number of models to be tested: ', len(params))\n",
    "\n",
    "# Create cross-validator\n",
    "cv = CrossValidator(estimator=pipeline, estimatorParamMaps=params, evaluator=evaluator, numFolds=5)"
   ]
  },
  {
   "cell_type": "markdown",
   "metadata": {},
   "source": [
    "### Dissecting the best flight duration model\n",
    "You just set up a CrossValidator to find good parameters for the linear regression model predicting flight duration.\n",
    "\n",
    "Now you're going to take a closer look at the resulting model, split out the stages and use it to make predictions on the testing data.\n",
    "\n",
    "The following have already been created:\n",
    "\n",
    "cv — a trained CrossValidatorModel object and  \n",
    "evaluator — a RegressionEvaluator object.  \n",
    "The flights data have been randomly split into flights_train and flights_test.\n",
    "\n",
    "### Instructions\n",
    "Retrieve the best model.  \n",
    "Look at the stages in the best model.  \n",
    "Isolate the linear regression stage and extract its parameters.  \n",
    "Use the best model to generate predictions on the testing data and calculate the RMSE."
   ]
  },
  {
   "cell_type": "code",
   "execution_count": null,
   "metadata": {},
   "outputs": [],
   "source": [
    "# Get the best model from cross validation\n",
    "best_model = cv.bestModel\n",
    "\n",
    "# Look at the stages in the best model\n",
    "print(best_model.stages)\n",
    "\n",
    "# Get the parameters for the LinearRegression object in the best model\n",
    "best_model.stages[3].extractParamMap()\n",
    "\n",
    "# Generate predictions on testing data using the best model then calculate RMSE\n",
    "predictions = best_model.transform(flights_test)\n",
    "evaluator.evaluate(predictions)"
   ]
  },
  {
   "cell_type": "markdown",
   "metadata": {},
   "source": [
    "### SMS spam optimised\n",
    "The pipeline you built earlier for the SMS spam model used the default parameters for all of the elements in the pipeline. It's very unlikely that these parameters will give a particularly good model though.\n",
    "\n",
    "In this exercise you'll set up a parameter grid which can be used with cross validation to choose a good set of parameters for the SMS spam classifier.\n",
    "\n",
    "The following are already defined:\n",
    "\n",
    "hasher — a HashingTF object and \n",
    "logistic — a LogisticRegression object.\n",
    "### Instructions\n",
    "Create a parameter grid builder object.  \n",
    "Add grid points for numFeatures and binary parameters to the HashingTF object, giving values 1024, 4096 and 16384, and True and False, respectively.  \n",
    "Add grid points for regParam and elasticNetParam parameters to the LogisticRegression object, giving values of 0.01, 0.1, 1.0 and 10.0, and 0.0, 0.5, and 1.0 respectively. \n",
    "Build the parameter grid."
   ]
  },
  {
   "cell_type": "code",
   "execution_count": null,
   "metadata": {},
   "outputs": [],
   "source": [
    "# Create parameter grid\n",
    "params = ParamGridBuilder()\n",
    "\n",
    "# Add grid for hashing trick parameters\n",
    "params = params.addGrid(hasher.numFeatures, [1024, 4096, 16384]) \\\n",
    "               .addGrid(hasher.binary, [True, False])\n",
    "\n",
    "# Add grid for logistic regression parameters\n",
    "params = params.addGrid(logistic.regParam, [.01, .1, 1.0, 10.0]) \\\n",
    "               .addGrid(logistic.elasticNetParam, [.0, .5, 1.0])\n",
    "\n",
    "# Build parameter grid\n",
    "params = params.build()"
   ]
  },
  {
   "cell_type": "markdown",
   "metadata": {},
   "source": [
    "### Delayed flights with Gradient-Boosted Trees\n",
    "You've previously built a classifier for flights likely to be delayed using a Decision Tree. In this exercise you'll compare a Decision Tree model to a Gradient-Boosted Trees model.\n",
    "\n",
    "The flights data have been randomly split into flights_train and flights_test.\n",
    "\n",
    "### Instructions\n",
    "Import the classes required to create Decision Tree and Gradient-Boosted Tree classifiers.  \n",
    "Create Decision Tree and Gradient-Boosted Tree classifiers. Train on the training data.  \n",
    "Create an evaluator and calculate AUC on testing data for both classifiers. Which model performs better?  \n",
    "Find the number of trees and the relative importance of features in the Gradient-Boosted Tree classifier."
   ]
  },
  {
   "cell_type": "code",
   "execution_count": null,
   "metadata": {},
   "outputs": [],
   "source": [
    "# Import the classes required\n",
    "from pyspark.ml.classification import DecisionTreeClassifier, GBTClassifier\n",
    "from pyspark.ml.evaluation import BinaryClassificationEvaluator\n",
    "\n",
    "# Create model objects and train on training data\n",
    "tree = DecisionTreeClassifier().fit(flights_train)\n",
    "gbt = GBTClassifier().fit(flights_train)\n",
    "\n",
    "# Compare AUC on testing data\n",
    "evaluator = BinaryClassificationEvaluator()\n",
    "evaluator.evaluate(tree.transform(flights_test))\n",
    "evaluator.evaluate(gbt.transform(flights_test))\n",
    "\n",
    "# Find the number of trees and the relative importance of features\n",
    "print(gbt.getNumTrees)\n",
    "print(gbt.featureImportances)"
   ]
  },
  {
   "cell_type": "markdown",
   "metadata": {},
   "source": [
    "### Delayed flights with a Random Forest\n",
    "In this exercise you'll bring together cross validation and ensemble methods. You'll be training a Random Forest classifier to predict delayed flights, using cross validation to choose the best values for model parameters.\n",
    "\n",
    "You'll find good values for the following parameters:\n",
    "\n",
    "featureSubsetStrategy — the number of features to consider for splitting at each node and\n",
    "maxDepth — the maximum number of splits along any branch.\n",
    "Unfortunately building this model takes too long, so we won't be running the .fit() method on the pipeline.\n",
    "\n",
    "### Instructions\n",
    "Create a random forest classifier object.   \n",
    "Create a parameter grid builder object.   \n",
    "Add grid points for the featureSubsetStrategy and maxDepth parameters.   \n",
    "Create binary classification evaluator.   \n",
    "Create a cross-validator object, specifying the estimator, parameter grid and evaluator. Choose 5-fold cross validation."
   ]
  },
  {
   "cell_type": "code",
   "execution_count": null,
   "metadata": {},
   "outputs": [],
   "source": [
    "# Create a random forest classifier\n",
    "forest = RandomForestClassifier()\n",
    "\n",
    "# Create a parameter grid\n",
    "params = ParamGridBuilder() \\\n",
    "            .addGrid(forest.featureSubsetStrategy, ['all', 'onethird', 'sqrt', 'log2']) \\\n",
    "            .addGrid(forest.maxDepth, [2, 5, 10]) \\\n",
    "            .build()\n",
    "\n",
    "# Create a binary classification evaluator\n",
    "evaluator = BinaryClassificationEvaluator()\n",
    "\n",
    "# Create a cross-validator\n",
    "cv = CrossValidator(estimator=forest, estimatorParamMaps=params, evaluator=evaluator, numFolds=5)"
   ]
  },
  {
   "cell_type": "markdown",
   "metadata": {},
   "source": [
    "### Evaluating Random Forest\n",
    "In this final exercise you'll be evaluating the results of cross-validation on a Random Forest model.\n",
    "\n",
    "The following have already been created:\n",
    "\n",
    "cv - a cross-validator which has already been fit to the training data\n",
    "evaluator — a BinaryClassificationEvaluator object and\n",
    "flights_test — the testing data.\n",
    "### Instructions\n",
    "Retrieve a list of average AUC metrics across all models in the parameter grid.  \n",
    "What is the average AUC for the best model? This will be the largest AUC in the list.  \n",
    "Find the value of the maxDepth and featureSubsetStrategy parameters for the best model.  \n",
    "Calculate the AUC for the best model predictions on the testing data."
   ]
  },
  {
   "cell_type": "code",
   "execution_count": null,
   "metadata": {},
   "outputs": [],
   "source": [
    "# Average AUC for each parameter combination in grid\n",
    "avg_auc = cv.avgMetrics\n",
    "\n",
    "# Average AUC for the best model\n",
    "best_model_auc =  max(avg_auc)\n",
    "\n",
    "# What's the optimal parameter value?\n",
    "opt_max_depth = cv.bestModel.explainParam(\"maxDepth\")\n",
    "opt_feat_substrat = cv.bestModel.explainParam(\"featureSubsetStrategy\")\n",
    "\n",
    "# AUC for best model on testing data\n",
    "best_auc = evaluator.evaluate(cv.transform(flights_test))"
   ]
  }
 ],
 "metadata": {
  "kernelspec": {
   "display_name": "Python 3",
   "language": "python",
   "name": "python3"
  },
  "language_info": {
   "codemirror_mode": {
    "name": "ipython",
    "version": 3
   },
   "file_extension": ".py",
   "mimetype": "text/x-python",
   "name": "python",
   "nbconvert_exporter": "python",
   "pygments_lexer": "ipython3",
   "version": "3.7.7"
  }
 },
 "nbformat": 4,
 "nbformat_minor": 4
}
