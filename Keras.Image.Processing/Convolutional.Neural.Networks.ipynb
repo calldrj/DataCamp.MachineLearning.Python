{
 "cells": [
  {
   "cell_type": "markdown",
   "metadata": {},
   "source": [
    "### One dimensional convolutions\n",
    "A convolution of an one-dimensional array with a kernel comprises of taking the kernel, sliding it along the array, multiplying it with the items in the array that overlap with the kernel in that location and summing this product.\n",
    "\n",
    "### Instructions\n",
    "Multiply each window in the input array with the kernel and sum the multiplied result and allocate the result into the correct entry in the output array (conv)."
   ]
  },
  {
   "cell_type": "code",
   "execution_count": null,
   "metadata": {},
   "outputs": [],
   "source": [
    "array = np.array([1, 0, 1, 0, 1, 0, 1, 0, 1, 0])\n",
    "kernel = np.array([1, -1, 0])\n",
    "conv = np.array([0, 0, 0, 0, 0, 0, 0, 0, 0, 0])\n",
    "\n",
    "# Output array\n",
    "for ii in range(8):\n",
    "    conv[ii] = (kernel * array[ii : ii + kernel.size]).sum()\n",
    "\n",
    "# Print conv\n",
    "print(conv)"
   ]
  },
  {
   "cell_type": "markdown",
   "metadata": {},
   "source": [
    "### Image convolutions\n",
    "The convolution of an image with a kernel summarizes a part of the image as the sum of the multiplication of that part of the image with the kernel.   \n",
    "In this exercise, you will write the code that executes a convolution of an image with a kernel using Numpy.   \n",
    "Given a black and white image that is stored in the variable im, write the operations inside the loop that would execute the convolution with the provided kernel.\n",
    "\n",
    "### Instructions\n",
    "Select the right window from the image in each iteration and multiply this part of the image with the kernel.  \n",
    "Sum the result and allocate the sum to the correct entry in the output array (results)."
   ]
  },
  {
   "cell_type": "code",
   "execution_count": null,
   "metadata": {},
   "outputs": [],
   "source": [
    "kernel = np.array([[0, 1, 0], [1, 1, 1], [0, 1, 0]])\n",
    "result = np.zeros(im.shape)\n",
    "kern_size = kernel.shape[0]\n",
    "im_height = im.shape[0]\n",
    "im_width = im.shape[1]\n",
    "# Output array\n",
    "for ii in range(im_height - kern_size):\n",
    "    for jj in range(im_width - kern_size):\n",
    "        result[ii, jj] = (im[ii:ii + kern_size, jj:jj + kern_size] * kernel).sum()\n",
    "\n",
    "# Print result\n",
    "print(result)"
   ]
  },
  {
   "cell_type": "markdown",
   "metadata": {},
   "source": [
    "### Defining image convolution kernels\n",
    "In the previous exercise, you wrote code that performs a convolution given an image and a kernel.   \n",
    "This code is now stored in a function called convolution() that takes two inputs: image and kernel and produces the convolved image.   \n",
    "In this exercise, you will be asked to define the kernel that finds a particular feature in the image.  \n",
    "For example, the following kernel finds a vertical line in images:  \n",
    "np.array([[-1, 1, -1],\n",
    "          [-1, 1, -1],\n",
    "          [-1, 1, -1]])\n",
    "### Instructions \n",
    "Define a kernel that finds horizontal lines in images.  \n",
    "Define a kernel that finds a light spot surrounded by dark pixels.  \n",
    "Define a kernel that finds a dark spot surrounded by bright pixels."
   ]
  },
  {
   "cell_type": "code",
   "execution_count": null,
   "metadata": {},
   "outputs": [],
   "source": [
    "# Define a kernel that finds horizontal lines in images.\n",
    "kernel = np.array([[-1, -1, -1], \n",
    "                   [ 1,  1,  1],\n",
    "                   [-1, -1, -1]])\n",
    "\n",
    "# Define a kernel that finds a light spot surrounded by dark pixels.\n",
    "kernel = np.array([[-1, -1, -1], \n",
    "                   [-1,  1, -1],\n",
    "                   [-1, -1, -1]])\n",
    "# Define a kernel that finds a dark spot surrounded by bright pixels.\n",
    "kernel = np.array([[1,  1,  1], \n",
    "                   [1, -1,  1],\n",
    "                   [1,  1,  1]])\n",
    "\n"
   ]
  },
  {
   "cell_type": "markdown",
   "metadata": {},
   "source": [
    "### Convolutional network for image classification\n",
    "Convolutional networks for classification are constructed from a sequence of convolutional layers (for image processing) and fully connected (Dense) layers (for readout).   \n",
    "In this exercise, you will construct a small convolutional network for classification of the data from the fashion dataset.\n",
    "\n",
    "### Instructions\n",
    "Add a Conv2D layer to construct the input layer of the network. \n",
    "Use a kernel size of 3 by 3. \n",
    "You can use the img_rows and img_cols objects available in your workspace to define the input_shape of this layer.\n",
    "\n",
    "Add a Flatten layer to translate between the image processing and classification part of your network.  \n",
    "\n",
    "Add a Dense layer to classify the 3 different categories of clothing in the dataset."
   ]
  },
  {
   "cell_type": "code",
   "execution_count": null,
   "metadata": {},
   "outputs": [],
   "source": [
    "# Import the necessary components from Keras\n",
    "from keras.models import Sequential\n",
    "from keras.layers import Dense, Conv2D, Flatten\n",
    "\n",
    "# Initialize the model object\n",
    "model = Sequential()\n",
    "\n",
    "# Add a convolutional layer\n",
    "model.add(Conv2D(10, kernel_size=3, \n",
    "                 activation='relu', \n",
    "                 input_shape=(img_rows, img_cols, 1)))\n",
    "\n",
    "# Flatten the output of the convolutional layer\n",
    "model.add(Flatten())\n",
    "# Add an output layer for the 3 categories\n",
    "model.add(Dense(3, activation='softmax'))"
   ]
  },
  {
   "cell_type": "markdown",
   "metadata": {},
   "source": [
    "### Training a CNN to classify clothing types\n",
    "Before training a neural network it needs to be compiled with the right cost function, using the right optimizer.   During compilation, you can also define metrics that the network calculates and reports in every epoch.   \n",
    "Model fitting requires a training data set, together with the training labels to the network.\n",
    "\n",
    "The Conv2D model you built in the previous exercise is available in your workspace.\n",
    "\n",
    "### Instructions\n",
    "Compile the network using the 'adam' optimizer and the 'categorical_crossentropy' cost function.   \n",
    "In the metrics list define that the network to report 'accuracy'.  \n",
    "Fit the network on train_data and train_labels.  \n",
    "Train for 3 epochs with a batch size of 10 images.   \n",
    "In training, set aside 20% of the data as a validation set, using the validation_split keyword argument."
   ]
  },
  {
   "cell_type": "code",
   "execution_count": null,
   "metadata": {},
   "outputs": [],
   "source": [
    "# Compile the model \n",
    "model.compile(optimizer='adam', \n",
    "              loss='categorical_crossentropy', \n",
    "              metrics=['accuracy'])\n",
    "\n",
    "# Fit the model on a training set\n",
    "model.fit(train_data, train_labels, \n",
    "          validation_split=.2, \n",
    "          epochs=3, batch_size=10)"
   ]
  },
  {
   "cell_type": "code",
   "execution_count": null,
   "metadata": {},
   "outputs": [],
   "source": [
    "# Evaluate the model on separate test data\n",
    "model.evaluate(test_data, test_labels, batch_size=10)"
   ]
  },
  {
   "cell_type": "markdown",
   "metadata": {},
   "source": [
    "### Add padding to a CNN\n",
    "Padding allows a convolutional layer to retain the resolution of the input into this layer.  \n",
    "This is done by adding zeros around the edges of the input image, so that the convolution kernel can overlap with the pixels on the edge of the image.   \n",
    "### Instructions\n",
    "Add a Conv2D layer and choose a padding such that the output has the same size as the input."
   ]
  },
  {
   "cell_type": "code",
   "execution_count": null,
   "metadata": {},
   "outputs": [],
   "source": [
    "# Initialize the model\n",
    "model = Sequential()\n",
    "\n",
    "# Add the convolutional layer\n",
    "model.add(Conv2D(10, kernel_size=3, activation='relu', \n",
    "                 input_shape=(img_rows, img_cols, 1), \n",
    "                 padding='same'))\n",
    "\n",
    "# Feed into output layer\n",
    "model.add(Flatten())\n",
    "model.add(Dense(3, activation='softmax'))"
   ]
  },
  {
   "cell_type": "markdown",
   "metadata": {},
   "source": [
    "### Add strides to a convolutional network\n",
    "The size of the strides of the convolution kernel determines whether the kernel will skip over some of the pixels as it slides along the image.   \n",
    "This affects the size of the output because when strides are larger than one, the kernel will be centered on only some of the pixels.\n",
    "\n",
    "### Instructions\n",
    "Construct a neural network with a Conv2D layer with strided convolutions that skips every other pixel."
   ]
  },
  {
   "cell_type": "code",
   "execution_count": null,
   "metadata": {},
   "outputs": [],
   "source": [
    "# Initialize the model\n",
    "model = Sequential()\n",
    "\n",
    "# Add the convolutional layer\n",
    "model.add(Conv2D(10, kernel_size=3, activation='relu', \n",
    "              input_shape=(img_rows, img_cols, 1), \n",
    "              strides=2))\n",
    "\n",
    "# Feed into output layer\n",
    "model.add(Flatten())\n",
    "model.add(Dense(3, activation='softmax'))"
   ]
  },
  {
   "cell_type": "markdown",
   "metadata": {},
   "source": []
  }
 ],
 "metadata": {
  "kernelspec": {
   "display_name": "Python 3",
   "language": "python",
   "name": "python3"
  },
  "language_info": {
   "codemirror_mode": {
    "name": "ipython",
    "version": 3
   },
   "file_extension": ".py",
   "mimetype": "text/x-python",
   "name": "python",
   "nbconvert_exporter": "python",
   "pygments_lexer": "ipython3",
   "version": "3.7.7"
  }
 },
 "nbformat": 4,
 "nbformat_minor": 4
}
