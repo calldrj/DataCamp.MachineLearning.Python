{
 "cells": [
  {
   "cell_type": "markdown",
   "metadata": {},
   "source": [
    "### Explore train data\n",
    "You will work with another Kaggle competition called \"Store Item Demand Forecasting Challenge\". In this competition, you are given 5 years of store-item sales data, and asked to predict 3 months of sales for 50 different items in 10 different stores.\n",
    "\n",
    "To begin, let's explore the train data for this competition. For the faster performance, you will work with a subset of the train data containing only a single month history.\n",
    "\n",
    "Your initial goal is to read the input data and take the first look at it.\n",
    "\n",
    "### Instructions\n",
    "Import pandas as pd.  \n",
    "Read train data using pandas' read_csv() method.  \n",
    "Print the head of the train data (using head() method) to see the data sample."
   ]
  },
  {
   "cell_type": "code",
   "execution_count": null,
   "metadata": {},
   "outputs": [],
   "source": [
    "# Import pandas\n",
    "import pandas as pd\n",
    "\n",
    "# Read train data\n",
    "train = pd.read_csv('train.csv')\n",
    "\n",
    "# Look at the shape of the data\n",
    "print('Train shape:', train.shape)\n",
    "\n",
    "# Look at the head() of the data\n",
    "print(train.head())"
   ]
  },
  {
   "cell_type": "markdown",
   "metadata": {},
   "source": [
    "### Explore test data\n",
    "Having looked at the train data, let's explore the test data in the \"Store Item Demand Forecasting Challenge\". Remember, that the test dataset generally contains one column less than the train one.\n",
    "\n",
    "This column, together with the output format, is presented in the sample submission file. Before making any progress in the competition, you should get familiar with the expected output.\n",
    "\n",
    "That is why, let's look at the columns of the test dataset and compare it to the train columns. Additionally, let's explore the format of the sample submission. The train DataFrame is available in your workspace.\n",
    "\n",
    "### Instructions\n",
    "Read the test dataset.  \n",
    "Print the column names of the train and test datasets.  \n",
    "Notice that test columns do not have the target \"sales\" column.    \n",
    "Now, read the sample submission file.\n",
    "Look at the head of the submission file to get the output format.  "
   ]
  },
  {
   "cell_type": "code",
   "execution_count": null,
   "metadata": {},
   "outputs": [],
   "source": [
    "import pandas as pd\n",
    "\n",
    "# Read the test data\n",
    "test = pd.read_csv('test.csv')\n",
    "# Print train and test columns\n",
    "print('Train columns:', train.columns.tolist())\n",
    "print('Test columns:', test.columns.tolist())\n",
    "\n",
    "# Read the sample submission file\n",
    "sample_submission = pd.read_csv('sample_submission.csv')\n",
    "\n",
    "# Look at the head() of the sample submission\n",
    "print(sample_submission.head())"
   ]
  },
  {
   "cell_type": "markdown",
   "metadata": {},
   "source": [
    "### Train a simple model\n",
    "As you determined, you are dealing with a regression problem. So, now you're ready to build a model for a subsequent submission. But now, instead of building the simplest Linear Regression model as in the slides, let's build an out-of-box Random Forest model.\n",
    "\n",
    "You will use the RandomForestRegressor class from the scikit-learn library.\n",
    "\n",
    "Your objective is to train a Random Forest model with default parameters on the \"store\" and \"item\" features.\n",
    "\n",
    "### Instructions\n",
    "Read the train data using pandas.  \n",
    "Create a Random Forest object.  \n",
    "Train the Random Forest model on the \"store\" and \"item\" features with \"sales\" as a target."
   ]
  },
  {
   "cell_type": "code",
   "execution_count": null,
   "metadata": {},
   "outputs": [],
   "source": [
    "import pandas as pd\n",
    "from sklearn.ensemble import RandomForestRegressor\n",
    "\n",
    "# Read the train data\n",
    "train = pd.read_csv('train.csv')\n",
    "\n",
    "# Create a Random Forest object\n",
    "rf = RandomForestRegressor()\n",
    "\n",
    "# Train a model\n",
    "rf.fit(X=train[['store', 'item' ]], y=train['sales'])"
   ]
  },
  {
   "cell_type": "markdown",
   "metadata": {},
   "source": [
    "### Prepare a submission\n",
    "You've already built a model on the training data from the Kaggle Store Item Demand Forecasting Challenge. Now, it's time to make predictions on the test data and create a submission file in the specified format.\n",
    "\n",
    "Your goal is to read the test data, make predictions, and save these in the format specified in the \"sample_submission.csv\" file. The rf object you created in the previous exercise is available in your workspace.\n",
    "\n",
    "Note that starting from now and for the rest of the course, pandas library will be always imported for you and could be accessed as pd.\n",
    "\n",
    "### Instructions\n",
    "Read \"test.csv\" and \"sample_submission.csv\" files using pandas.  \n",
    "Look at the head of the sample submission to determine the format.  \n",
    "Note that sample submission has id and sales columns.    \n",
    "Now, make predictions on the test data using the rf model, that you fitted on the train data.   \n",
    "Using the format given in the sample submission, write your results to a new file."
   ]
  },
  {
   "cell_type": "code",
   "execution_count": null,
   "metadata": {},
   "outputs": [],
   "source": [
    "# Read test and sample submission data\n",
    "test = pd.read_csv('test.csv')\n",
    "sample_submission = pd.read_csv('sample_submission.csv')\n",
    "\n",
    "# Show the head() of the sample_submission\n",
    "print(sample_submission.head())\n",
    "\n",
    "# Get predictions for the test set\n",
    "test['sales'] = rf.predict(test[['store', 'item']])\n",
    "\n",
    "# Write test predictions using the sample_submission format\n",
    "test[['id', 'sales']].to_csv('kaggle_submission.csv', index=False)"
   ]
  },
  {
   "cell_type": "markdown",
   "metadata": {},
   "source": [
    "### Train XGBoost models\n",
    "Every Machine Learning method could potentially overfit. You will see it on this example with XGBoost. Again, you are working with the Store Item Demand Forecasting Challenge. The train DataFrame is available in your workspace.\n",
    "\n",
    "Firstly, let's train multiple XGBoost models with different sets of hyperparameters using XGBoost's learning API. The single hyperparameter you will change is:\n",
    "\n",
    "max_depth - maximum depth of a tree. Increasing this value will make the model more complex and more likely to overfit.\n",
    "### Instructions \n",
    "Set the maximum depth to 2. Then hit Submit Answer button to train the first model.  \n",
    "Now, set the maximum depth to 8. Then hit Submit Answer button to train the second model.   \n",
    "Finally, set the maximum depth to 15. Then hit Submit Answer button to train the third model."
   ]
  },
  {
   "cell_type": "code",
   "execution_count": null,
   "metadata": {},
   "outputs": [],
   "source": [
    "import xgboost as xgb\n",
    "\n",
    "# Create DMatrix on train data\n",
    "dtrain = xgb.DMatrix(data=train[['store', 'item']],\n",
    "                     label=train['sales'])\n",
    "\n",
    "# Define xgboost parameters\n",
    "params = {'objective': 'reg:linear',\n",
    "          'max_depth': 15,\n",
    "          'silent': 1}\n",
    "\n",
    "# Train xgboost model\n",
    "xg_depth_15 = xgb.train(params=params, dtrain=dtrain)"
   ]
  },
  {
   "cell_type": "markdown",
   "metadata": {},
   "source": [
    "### Explore overfitting XGBoost\n",
    "Having trained 3 XGBoost models with different maximum depths, you will now evaluate their quality. For this purpose, you will measure the quality of each model on both the train data and the test data. As you know by now, the train data is the data models have been trained on. The test data is the next month sales data that models have never seen before.\n",
    "\n",
    "The goal of this exercise is to determine whether any of the models trained is overfitting. To measure the quality of the models you will use Mean Squared Error (MSE). It's available in sklearn.metrics as mean_squared_error() function that takes two arguments: true values and predicted values.\n",
    "\n",
    "train and test DataFrames together with 3 models trained (xg_depth_2, xg_depth_8, xg_depth_15) are available in your workspace.\n",
    "\n",
    "### Instructions\n",
    "Make predictions for each model on both the train and test data.  \n",
    "Calculate the MSE between the true values and your predictions for both the train and test data."
   ]
  },
  {
   "cell_type": "code",
   "execution_count": null,
   "metadata": {},
   "outputs": [],
   "source": [
    "from sklearn.metrics import mean_squared_error as MSE\n",
    "\n",
    "dtrain = xgb.DMatrix(data=train[['store', 'item']])\n",
    "dtest = xgb.DMatrix(data=test[['store', 'item']])\n",
    "\n",
    "# For each of 3 trained models\n",
    "for model in [xg_depth_2, xg_depth_8, xg_depth_15]:\n",
    "    # Make predictions\n",
    "    train_pred = model.predict(dtrain)     \n",
    "    test_pred = model.predict(dtest)          \n",
    "    \n",
    "    # Calculate metrics\n",
    "    mse_train = MSE(train['sales'], train_pred)                  \n",
    "    mse_test  = MSE(test['sales'], test_pred)\n",
    "    print('MSE Train: {:.3f}. MSE Test: {:.3f}'.format(mse_train, mse_test))\n",
    "    \n",
    "\"\"\" <script.py> output:\n",
    "    MSE Train: 631.275. MSE Test: 558.522\n",
    "    MSE Train: 183.771. MSE Test: 337.337\n",
    "    MSE Train: 134.984. MSE Test: 355.534\n",
    "    \n",
    "    Comment: the third model with depth 15 is already overfitting. \n",
    "    It has considerably lower train error compared to the second model, \n",
    "    however test error is higher. Be aware of overfitting and move on \n",
    "    to the next chapter to know how to beat it!\n",
    "\"\"\""
   ]
  }
 ],
 "metadata": {
  "kernelspec": {
   "display_name": "Python 3",
   "language": "python",
   "name": "python3"
  },
  "language_info": {
   "codemirror_mode": {
    "name": "ipython",
    "version": 3
   },
   "file_extension": ".py",
   "mimetype": "text/x-python",
   "name": "python",
   "nbconvert_exporter": "python",
   "pygments_lexer": "ipython3",
   "version": "3.7.7"
  }
 },
 "nbformat": 4,
 "nbformat_minor": 4
}
