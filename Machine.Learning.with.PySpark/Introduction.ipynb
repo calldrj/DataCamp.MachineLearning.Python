{
 "cells": [
  {
   "cell_type": "markdown",
   "metadata": {},
   "source": [
    "### Creating a SparkSession\n",
    "In this exercise, you'll spin up a local Spark cluster using all available cores. The cluster will be accessible via a SparkSession object.\n",
    "\n",
    "The SparkSession class has a builder attribute, which is an instance of the Builder class. The Builder class exposes three important methods that let you:\n",
    "\n",
    "specify the location of the master node;  \n",
    "name the application (optional); and  \n",
    "retrieve an existing SparkSession or, if there is none, create a new one.  \n",
    "The SparkSession class has a version attribute which gives the version of Spark.  \n",
    "\n",
    "Find out more about SparkSession here.  \n",
    "\n",
    "Once you are finished with the cluster, it's a good idea to shut it down, which will free up its resources, making them available for other processes.\n",
    "\n",
    "Note:: You might find it useful to revise the slides from the lessons in the Slides panel next to the IPython Shell.\n",
    "\n",
    "### Instructions\n",
    "Import the SparkSession class from pyspark.sql.  \n",
    "Create a SparkSession object connected to a local cluster. Use all available cores. Name the application 'test'.  \n",
    "Use the SparkSession object to retrieve the version of Spark running on the cluster.  \n",
    "Shut down the cluster."
   ]
  },
  {
   "cell_type": "code",
   "execution_count": null,
   "metadata": {},
   "outputs": [],
   "source": [
    "# Import the PySpark module\n",
    "from pyspark.sql import SparkSession\n",
    "\n",
    "# Create SparkSession object\n",
    "spark = SparkSession.builder \\\n",
    "                    .master('local[*]') \\\n",
    "                    .appName('test') \\\n",
    "                    .getOrCreate()\n",
    "\n",
    "# What version of Spark?\n",
    "print(spark.version)\n",
    "\n",
    "# Terminate the cluster\n",
    "spark.stop()"
   ]
  },
  {
   "cell_type": "markdown",
   "metadata": {},
   "source": [
    "### Loading flights data\n",
    "In this exercise you're going to load some airline flight data from a CSV file. To ensure that the exercise runs quickly these data have been trimmed down to only 50 000 records. You can get a larger dataset in the same format here.\n",
    "\n",
    "Notes on CSV format:\n",
    "\n",
    "fields are separated by a comma (this is the default separator) and  \n",
    "missing data are denoted by the string 'NA'.\n",
    "Data dictionary:\n",
    "\n",
    "mon — month (integer between 1 and 12)  \n",
    "dom — day of month (integer between 1 and 31)  \n",
    "dow — day of week (integer; 1 = Monday and 7 = Sunday)  \n",
    "org — origin airport (IATA code)  \n",
    "mile — distance (miles)  \n",
    "carrier — carrier (IATA code)  \n",
    "depart — departure time (decimal hour)  \n",
    "duration — expected duration (minutes)  \n",
    "delay — delay (minutes)  \n",
    "pyspark has been imported for you and the session has been initialized.\n",
    "\n",
    "Note: The data have been aggressively down-sampled.\n",
    "\n",
    "### Instructions\n",
    "Read data from a CSV file called 'flights.csv'.   \n",
    "Assign data types to columns automatically. Deal with missing data.  \n",
    "How many records are in the data?  \n",
    "Take a look at the first five records.  \n",
    "What data types have been assigned to the columns? Do these look correct?"
   ]
  },
  {
   "cell_type": "code",
   "execution_count": null,
   "metadata": {},
   "outputs": [],
   "source": [
    "# Read data from CSV file\n",
    "flights = spark.read.csv('flights.csv',\n",
    "                         sep=',',\n",
    "                         header=True,\n",
    "                         inferSchema=True,\n",
    "                         nullValue='NA')\n",
    "\n",
    "# Get number of records\n",
    "print(\"The data contain %d records.\" % flights.count())\n",
    "\n",
    "# View the first five records\n",
    "flights.show(5)\n",
    "\n",
    "# Check column data types\n",
    "flights.dtypes"
   ]
  },
  {
   "cell_type": "markdown",
   "metadata": {},
   "source": [
    "### Loading SMS spam data\n",
    "You've seen that it's possible to infer data types directly from the data. Sometimes it's convenient to have direct control over the column types. You do this by defining an explicit schema.\n",
    "\n",
    "The file sms.csv contains a selection of SMS messages which have been classified as either 'spam' or 'ham'. These data have been adapted from the UCI Machine Learning Repository. There are a total of 5574 SMS, of which 747 have been labelled as spam.\n",
    "\n",
    "Notes on CSV format:\n",
    "\n",
    "no header record and\n",
    "fields are separated by a semicolon (this is not the default separator).\n",
    "Data dictionary:\n",
    "\n",
    "id — record identifier  \n",
    "text — content of SMS message  \n",
    "label — spam or ham (integer; 0 = ham and 1 = spam)  \n",
    "### Instructions\n",
    "Specify the data schema, giving columns names (\"id\", \"text\", and \"label\") and column types.  \n",
    "Read data from a delimited file called \"sms.csv\".  \n",
    "Print the schema for the resulting DataFrame."
   ]
  },
  {
   "cell_type": "code",
   "execution_count": null,
   "metadata": {},
   "outputs": [],
   "source": [
    "from pyspark.sql.types import StructType, StructField, IntegerType, StringType\n",
    "\n",
    "# Specify column names and types\n",
    "schema = StructType([\n",
    "    StructField(\"id\", IntegerType()),\n",
    "    StructField(\"text\", StringType()),\n",
    "    StructField(\"label\", IntegerType())\n",
    "])\n",
    "\n",
    "# Load data from a delimited file\n",
    "sms = spark.read.csv('sms.csv', sep=';', header=False, schema=schema)\n",
    "\n",
    "# Print schema of DataFrame\n",
    "sms.printSchema()"
   ]
  }
 ],
 "metadata": {
  "kernelspec": {
   "display_name": "Python 3",
   "language": "python",
   "name": "python3"
  },
  "language_info": {
   "codemirror_mode": {
    "name": "ipython",
    "version": 3
   },
   "file_extension": ".py",
   "mimetype": "text/x-python",
   "name": "python",
   "nbconvert_exporter": "python",
   "pygments_lexer": "ipython3",
   "version": "3.7.7"
  }
 },
 "nbformat": 4,
 "nbformat_minor": 4
}
