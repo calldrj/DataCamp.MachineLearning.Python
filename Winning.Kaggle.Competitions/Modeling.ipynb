{
 "cells": [
  {
   "cell_type": "markdown",
   "metadata": {},
   "source": [
    "### Replicate validation score\n",
    "You've seen both validation and Public Leaderboard scores in the video. However, the code examples are available only for the test data. To get the validation scores you have to repeat the same process on the holdout set.\n",
    "\n",
    "Throughout this chapter, you will work with New York City Taxi competition data. The problem is to predict the fare amount for a taxi ride in New York City. The competition metric is the root mean squared error.\n",
    "\n",
    "The first goal is to evaluate the Baseline model on the validation data. You will replicate the simplest Baseline based on the mean of \"fare_amount\". Recall that as a validation strategy we used a 30% holdout split with validation_train as train and validation_test as holdout DataFrames. Both of them are available in your workspace.\n",
    "\n",
    "### Instructions\n",
    "Calculate the mean of \"fare_amount\" over the whole validation_train DataFrame.  \n",
    "Assign this naive prediction value to all the holdout predictions. Store them in the \"pred\" column."
   ]
  },
  {
   "cell_type": "code",
   "execution_count": null,
   "metadata": {},
   "outputs": [],
   "source": [
    "import numpy as np\n",
    "from sklearn.metrics import mean_squared_error\n",
    "from math import sqrt\n",
    "\n",
    "# Calculate the mean fare_amount on the validation_train data\n",
    "naive_prediction = np.mean(validation_train['fare_amount'])\n",
    "\n",
    "# Assign naive prediction to all the holdout observations\n",
    "validation_test['pred'] = naive_prediction\n",
    "\n",
    "# Measure the local RMSE\n",
    "rmse = sqrt(mean_squared_error(validation_test['fare_amount'], validation_test['pred']))\n",
    "print('Validation RMSE for Baseline I model: {:.3f}'.format(rmse))"
   ]
  },
  {
   "cell_type": "markdown",
   "metadata": {},
   "source": [
    "### Baseline based on the date\n",
    "We've already built 3 different baseline models. To get more practice, let's build a couple more. The first model is based on the grouping variables. It's clear that the ride fare could depend on the part of the day. For example, prices could be higher during the rush hours.\n",
    "\n",
    "Your goal is to build a baseline model that will assign the average \"fare_amount\" for the corresponding hour. For now, you will create the model for the whole train data and make predictions for the test dataset.\n",
    "\n",
    "The train and test DataFrames are available in your workspace. Moreover, the \"pickup_datetime\" column in both DataFrames is already converted to a datetime object for you.\n",
    "\n",
    "### Instructions\n",
    "Get the hour from the \"pickup_datetime\" column for the train and test DataFrames.  \n",
    "Calculate the mean \"fare_amount\" for each hour on the train data.  \n",
    "Make test predictions using pandas' map() method and the grouping obtained.  \n",
    "Write predictions to the file."
   ]
  },
  {
   "cell_type": "code",
   "execution_count": null,
   "metadata": {},
   "outputs": [],
   "source": [
    "# Get pickup hour from the pickup_datetime column\n",
    "train['hour'] = train['pickup_datetime'].dt.hour\n",
    "test['hour'] = test['pickup_datetime'].dt.hour\n",
    "\n",
    "# Calculate average fare_amount grouped by pickup hour \n",
    "hour_groups = train.groupby('hour')['fare_amount'].mean()\n",
    "\n",
    "# Make predictions on the test set\n",
    "test['fare_amount'] = test.hour.map(hour_groups)\n",
    "\n",
    "# Write predictions\n",
    "test[['id','fare_amount']].to_csv('hour_mean_sub.csv', index=False)"
   ]
  },
  {
   "cell_type": "markdown",
   "metadata": {},
   "source": [
    "### Baseline based on the gradient boosting\n",
    "Let's build a final baseline based on the Random Forest. You've seen a huge score improvement moving from the grouping baseline to the Gradient Boosting in the video. Now, you will use sklearn's Random Forest to further improve this score.\n",
    "\n",
    "The goal of this exercise is to take numeric features and train a Random Forest model without any tuning. After that, you could make test predictions and validate the result on the Public Leaderboard. Note that you've already got an \"hour\" feature which could also be used as an input to the model.\n",
    "\n",
    "### Instructions\n",
    "Add the \"hour\" feature to the list of numeric features.   \n",
    "Fit the RandomForestRegressor on the train data with numeric features and \"fare_amount\" as a target.   \n",
    "Use the trained Random Forest model to make predictions on the test data."
   ]
  },
  {
   "cell_type": "code",
   "execution_count": null,
   "metadata": {},
   "outputs": [],
   "source": [
    "from sklearn.ensemble import RandomForestRegressor\n",
    "\n",
    "# Select only numeric features\n",
    "features = ['pickup_longitude', 'pickup_latitude', 'dropoff_longitude',\n",
    "            'dropoff_latitude', 'passenger_count', 'hour']\n",
    "\n",
    "# Train a Random Forest model\n",
    "rf = RandomForestRegressor()\n",
    "rf.fit(train[features], train.fare_amount)\n",
    "\n",
    "# Make predictions on the test data\n",
    "test['fare_amount'] = rf.predict(test[features])\n",
    "\n",
    "# Write predictions\n",
    "test[['id','fare_amount']].to_csv('rf_sub.csv', index=False)\n",
    "\n",
    "\"\"\" Congratulations! This final baseline achieves the 1051st place on \n",
    "the Public Leaderboard which is slightly better than the Gradient Boosting \n",
    "from the video. So, now you know how to build fast and simple baseline models \n",
    "to validate your initial pipeline.\n",
    "\"\"\""
   ]
  },
  {
   "cell_type": "markdown",
   "metadata": {},
   "source": [
    "### Grid search\n",
    "Recall that we've created a baseline Gradient Boosting model in the previous lesson. Your goal now is to find the best max_depth hyperparameter value for this Gradient Boosting model. This hyperparameter limits the number of nodes in each individual tree. You will be using K-fold cross-validation to measure the local performance of the model for each hyperparameter value.\n",
    "\n",
    "You're given a function get_cv_score(), which takes the train dataset and dictionary of the model parameters as arguments and returns the overall validation RMSE score over 3-fold cross-validation.\n",
    "\n",
    "### Instructions\n",
    "Specify the grid for possible max_depth values with 3, 6, 9, 12 and 15.  \n",
    "Pass each hyperparameter candidate in the grid to the model params dictionary."
   ]
  },
  {
   "cell_type": "code",
   "execution_count": null,
   "metadata": {},
   "outputs": [],
   "source": [
    "# Possible max depth values\n",
    "max_depth_grid = [3,6,9,12,15]\n",
    "results = {}\n",
    "\n",
    "# For each value in the grid\n",
    "for max_depth_candidate in max_depth_grid:\n",
    "    # Specify parameters for the model\n",
    "    params = {'max_depth': max_depth_candidate}\n",
    "\n",
    "    # Calculate validation score for a particular hyperparameter\n",
    "    validation_score = get_cv_score(train, params)\n",
    "\n",
    "    # Save the results for each max depth value\n",
    "    results[max_depth_candidate] = validation_score   \n",
    "print(results)\n",
    "\n",
    "\"\"\" We have a validation score for each value in the grid. \n",
    "It's clear that the optimal max depth value is located somewhere \n",
    "between 3 and 6. The next step could be to use a smaller grid, \n",
    "for example [3, 4, 5, 6] and repeat the same process. \n",
    "Moving from larger to smaller grids allows us to find \n",
    "the most optimal values. \n",
    "Keep going to try optimizing 2 hyperparameters simultaneously!\n",
    "\"\"\""
   ]
  },
  {
   "cell_type": "markdown",
   "metadata": {},
   "source": [
    "### 2D grid search\n",
    "The drawback of tuning each hyperparameter independently is a potential dependency between different hyperparameters. The better approach is to try all the possible hyperparameter combinations. However, in such cases, the grid search space is rapidly expanding. For example, if we have 2 parameters with 10 possible values, it will yield 100 experiment runs.\n",
    "\n",
    "Your goal is to find the best hyperparameter couple of max_depth and subsample for the Gradient Boosting model. subsample is a fraction of observations to be used for fitting the individual trees.\n",
    "\n",
    "You're given a function get_cv_score(), which takes the train dataset and dictionary of the model parameters as arguments and returns the overall validation RMSE score over 3-fold cross-validation.\n",
    "\n",
    "### Instructions\n",
    "Specify the grids for possible max_depth and subsample values.   \n",
    "For max_depth: 3, 5 and 7.   \n",
    "For subsample: 0.8, 0.9 and 1.0.\n",
    "Apply the product() function from the itertools package to the hyperparameter grids.   \n",
    "It returns all possible combinations for these two grids.  \n",
    "Pass each hyperparameters candidate couple to the model params dictionary."
   ]
  },
  {
   "cell_type": "code",
   "execution_count": null,
   "metadata": {},
   "outputs": [],
   "source": [
    "import itertools\n",
    "\n",
    "# Hyperparameter grids\n",
    "max_depth_grid = [3,5,7]\n",
    "subsample_grid = [.8,.9,1.0]\n",
    "results = {}\n",
    "\n",
    "# For each couple in the grid\n",
    "for max_depth_candidate, subsample_candidate in itertools.product(max_depth_grid, subsample_grid):\n",
    "    params = {'max_depth': max_depth_candidate,\n",
    "              'subsample': subsample_candidate}\n",
    "    validation_score = get_cv_score(train, params)\n",
    "    # Save the results for each couple\n",
    "    results[(max_depth_candidate, subsample_candidate)] = validation_score   \n",
    "print(results)\n",
    "\n",
    "\"\"\" Great! You can see that tuning multiple hyperparameters simultaneously achieves better results. \n",
    "In the previous exercise, tuning only the max_depth parameter gave the best RMSE of $6.50. \n",
    "With max_depth equal to 7 and subsample equal to 0.8, the best RMSE is now $6.16. \n",
    "However, do not spend too much time on the hyperparameter tuning at the beginning of the competition! \n",
    "Another approach that almost always improves your solution is model ensembling. Go on for it!\n",
    "\"\"\""
   ]
  },
  {
   "cell_type": "markdown",
   "metadata": {},
   "source": [
    "### Model blending\n",
    "You will start creating model ensembles with a blending technique.\n",
    "\n",
    "Your goal is to train 2 different models on the New York City Taxi competition data. Make predictions on the test data and then blend them using a simple arithmetic mean.\n",
    "\n",
    "The train and test DataFrames are already available in your workspace. features is a list of columns to be used for training and it is also available in your workspace. The target variable name is \"fare_amount\".\n",
    "\n",
    "### Instructions\n",
    "Train a Gradient Boosting model on the train data using features list, and the \"fare_amount\" column as a target variable.   \n",
    "Train a Random Forest model in the same manner.  \n",
    "Make predictions on the test data using both Gradient Boosting and Random Forest models.  \n",
    "Find the average of both models predictions."
   ]
  },
  {
   "cell_type": "code",
   "execution_count": null,
   "metadata": {},
   "outputs": [],
   "source": [
    "from sklearn.ensemble import GradientBoostingRegressor, RandomForestRegressor\n",
    "\n",
    "# Train a Gradient Boosting model\n",
    "gb = GradientBoostingRegressor().fit(train[features], train.fare_amount)\n",
    "\n",
    "# Train a Random Forest model\n",
    "rf = RandomForestRegressor().fit(train[features], train.fare_amount)\n",
    "\n",
    "# Make predictions on the test data\n",
    "test['gb_pred'] = gb.predict(test[features])\n",
    "test['rf_pred'] = rf.predict(test[features])\n",
    "\n",
    "# Find mean of model predictions\n",
    "test['blend'] = (test['gb_pred'] + test['rf_pred']) / 2\n",
    "print(test[['gb_pred', 'rf_pred', 'blend']].head(3))\n",
    "\n",
    "\"\"\" <script.py> output:\n",
    "        gb_pred  rf_pred     blend\n",
    "    0  9.661374     9.00  9.330687\n",
    "    1  9.304288     8.45  8.877144\n",
    "    2  5.795140     5.11  5.452570\n",
    "\"\"\""
   ]
  },
  {
   "cell_type": "markdown",
   "metadata": {},
   "source": [
    "### Model stacking I\n",
    "Now it's time for stacking. To implement the stacking approach, you will follow the 6 steps we've discussed in the previous video:\n",
    "\n",
    "1. Split train data into two parts  \n",
    "2. Train multiple models on Part 1  \n",
    "3. Make predictions on Part 2  \n",
    "4. Make predictions on the test data  \n",
    "5. Train a new model on Part 2 using predictions as features  \n",
    "6. Make predictions on the test data using the 2nd level model  \n",
    "train and test DataFrames are already available in your workspace.   \n",
    "features is a list of columns to be used for training on the Part 1 data and it is also available in your workspace.   \n",
    "Target variable name is \"fare_amount\".\n",
    "\n",
    "### Instructions\n",
    "Split the train DataFrame into two equal parts: part_1 and part_2.   \n",
    "Use the train_test_split() function with test_size equal to 0.5.  \n",
    "Train Gradient Boosting and Random Forest models on the part_1 data.  \n",
    "Make Gradient Boosting and Random Forest predictions on the part_2 data.   \n",
    "Make Gradient Boosting and Random Forest predictions on the test data."
   ]
  },
  {
   "cell_type": "code",
   "execution_count": null,
   "metadata": {},
   "outputs": [],
   "source": [
    "from sklearn.model_selection import train_test_split\n",
    "from sklearn.ensemble import GradientBoostingRegressor, RandomForestRegressor\n",
    "\n",
    "# 1. Split train data into two parts\n",
    "part_1, part_2 = train_test_split(train, test_size=.5, random_state=123)\n",
    "\n",
    "# 2. Train a Gradient Boosting model on Part 1\n",
    "gb = GradientBoostingRegressor().fit(part_1[features], part_1.fare_amount)\n",
    "\n",
    "#    Train a Random Forest model on Part 1\n",
    "rf = RandomForestRegressor().fit(part_1[features], part_1.fare_amount)\n",
    "\n",
    "# 3. Make predictions on the Part 2 data\n",
    "part_2['gb_pred'] = gb.predict(part_2[features])\n",
    "part_2['rf_pred'] = rf.predict(part_2[features])\n",
    "\n",
    "# 4. Make predictions on the test data\n",
    "test['gb_pred'] = gb.predict(test[features])\n",
    "test['rf_pred'] = rf.predict(test[features])"
   ]
  },
  {
   "cell_type": "markdown",
   "metadata": {},
   "source": [
    "### Model stacking II\n",
    "OK, what you've done so far in the stacking implementation:\n",
    "\n",
    "1. Split train data into two parts\n",
    "2. Train multiple models on Part 1\n",
    "3. Make predictions on Part 2\n",
    "4. Make predictions on the test data     \n",
    "\n",
    "Now, your goal is to create a second level model using predictions from steps 3 and 4 as features.    \n",
    "So, this model is trained on Part 2 data and then you can make stacking predictions on the test data.\n",
    "\n",
    "part_2 and test DataFrames are already available in your workspace.   \n",
    "Gradient Boosting and Random Forest predictions are stored in these DataFrames under the names \"gb_pred\" and \"rf_pred\", respectively.\n",
    "\n",
    "### Instructions\n",
    "Train a Linear Regression model on the Part 2 data using Gradient Boosting and Random Forest models predictions as features.   \n",
    "Make predictions on the test data using Gradient Boosting and Random Forest models predictions as features."
   ]
  },
  {
   "cell_type": "code",
   "execution_count": null,
   "metadata": {},
   "outputs": [],
   "source": [
    "from sklearn.linear_model import LinearRegression\n",
    "\n",
    "# Create linear regression model without the intercept\n",
    "lr = LinearRegression(fit_intercept=False)\n",
    "\n",
    "# Train 2nd level model on the Part 2 data\n",
    "lr.fit(part_2[['gb_pred', 'rf_pred']], part_2.fare_amount)\n",
    "\n",
    "# Make stacking predictions on the test data\n",
    "test['stacking'] = lr.predict(test[['gb_pred', 'rf_pred']])\n",
    "\n",
    "# Look at the model coefficients\n",
    "print(lr.coef_)\n",
    "\n",
    "\"\"\" Congratulations, now your toolbox contains ensembling techniques! \n",
    "Usually, the 2nd level model is some simple model like Linear or Logistic Regressions. \n",
    "Also, note that you were not using intercept in the Linear Regression just to combine \n",
    "pure model predictions. Looking at the coefficients, it's clear that 2nd level model \n",
    "has more trust to the Gradient Boosting: 0.7 versus 0.3 for the Random Forest model. \n",
    "Now, move forward to the last lesson in order to learn some final tips and tricks!\n",
    "\"\"\""
   ]
  },
  {
   "cell_type": "markdown",
   "metadata": {},
   "source": [
    "### Testing Kaggle forum ideas\n",
    "Unfortunately, not all the Forum posts and Kernels are necessarily useful for your model. So instead of blindly incorporating ideas into your pipeline, you should test them first.\n",
    "\n",
    "You're given a function get_cv_score(), which takes a train dataset as an argument and returns the overall validation root mean squared error over 3-fold cross-validation. The train DataFrame is already available in your workspace.\n",
    "\n",
    "You should try different suggestions from the Kaggle Forum and check whether they improve your validation score.\n",
    "\n",
    "### Instructions \n",
    "Suggestion 1: the passenger_count feature is useless.   \n",
    "Let's see! Drop this feature and compare the scores.  \n",
    "This first suggestion worked.   \n",
    "Suggestion 2: Sum of pickup_latitude and distance_km is a good feature.   \n",
    "Let's try it!"
   ]
  },
  {
   "cell_type": "code",
   "execution_count": null,
   "metadata": {},
   "outputs": [],
   "source": [
    "# Drop passenger_count column\n",
    "new_train_1 = train.drop('passenger_count', axis=1)\n",
    "\n",
    "# Compare validation scores\n",
    "initial_score = get_cv_score(train)\n",
    "new_score = get_cv_score(new_train_1)\n",
    "\n",
    "print('Initial score is {} and the new score is {}'.format(initial_score, new_score))"
   ]
  },
  {
   "cell_type": "code",
   "execution_count": null,
   "metadata": {},
   "outputs": [],
   "source": [
    "# Create copy of the initial train DataFrame\n",
    "new_train_2 = train.copy()\n",
    "\n",
    "# Find sum of pickup latitude and ride distance\n",
    "new_train_2['weird_feature'] = new_train_2['pickup_latitude'] + new_train_2['distance_km']\n",
    "\n",
    "# Compare validation scores\n",
    "initial_score = get_cv_score(train)\n",
    "new_score = get_cv_score(new_train_2)\n",
    "\n",
    "print('Initial score is {} and the new score is {}'.format(initial_score, new_score))"
   ]
  },
  {
   "cell_type": "markdown",
   "metadata": {},
   "source": [
    "### "
   ]
  }
 ],
 "metadata": {
  "kernelspec": {
   "display_name": "Python 3",
   "language": "python",
   "name": "python3"
  },
  "language_info": {
   "codemirror_mode": {
    "name": "ipython",
    "version": 3
   },
   "file_extension": ".py",
   "mimetype": "text/x-python",
   "name": "python",
   "nbconvert_exporter": "python",
   "pygments_lexer": "ipython3",
   "version": "3.7.7"
  }
 },
 "nbformat": 4,
 "nbformat_minor": 4
}
