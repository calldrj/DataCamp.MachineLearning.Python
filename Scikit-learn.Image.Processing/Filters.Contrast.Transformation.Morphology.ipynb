{
 "cells": [
  {
   "cell_type": "markdown",
   "metadata": {},
   "source": [
    "### Edge detection\n",
    "In this exercise, you'll detect edges in an image by applying the Sobel filter.\n",
    "\n",
    "Image preloaded as soaps_image.   \n",
    "Theshow_image() function has been already loaded for you.    \n",
    "Let's see if it spots all the figures in the image.\n",
    "\n",
    "### Instructions\n",
    "Import the color module so you can convert the image to grayscale.   \n",
    "Import the sobel() function from filters module.  \n",
    "Make soaps_image grayscale using the appropriate method from the color module.  \n",
    "Apply the sobel edge detection filter on the obtained grayscale image soaps_image_gray."
   ]
  },
  {
   "cell_type": "code",
   "execution_count": null,
   "metadata": {},
   "outputs": [],
   "source": [
    "# Import the color module\n",
    "from skimage import color\n",
    "\n",
    "# Import the filters module and sobel function\n",
    "from skimage.filters import sobel\n",
    "\n",
    "# Make the image grayscale\n",
    "soaps_image_gray = color.rgb2gray(soaps_image)\n",
    "\n",
    "# Apply edge detection filter\n",
    "edge_sobel = sobel(soaps_image_gray)\n",
    "\n",
    "# Show original and resulting image to compare\n",
    "show_image(soaps_image, \"Original\")\n",
    "show_image(edge_sobel, \"Edges with Sobel\")"
   ]
  },
  {
   "cell_type": "markdown",
   "metadata": {},
   "source": [
    "### Blurring to reduce noise\n",
    "In this exercise you will reduce the sharpness of an image of a building taken during a London trip, through filtering.    \n",
    "\n",
    "Image loaded as building_image.\n",
    "### Instructions\n",
    "Import the Gaussian filter.   \n",
    "Apply the filter to the building_image, set the multichannel parameter to the correct value.  \n",
    "Show the original building_image and resulting gaussian_image."
   ]
  },
  {
   "cell_type": "code",
   "execution_count": null,
   "metadata": {},
   "outputs": [],
   "source": [
    "# Import Gaussian filter \n",
    "from skimage.filters import gaussian\n",
    "\n",
    "# Apply filter\n",
    "gaussian_image = gaussian(building_image, multichannel=True)\n",
    "\n",
    "# Show original and resulting image to compare\n",
    "show_image(building_image, \"Original\")\n",
    "show_image(gaussian_image, \"Reduced sharpness Gaussian\")"
   ]
  },
  {
   "cell_type": "markdown",
   "metadata": {},
   "source": [
    "### Medical images\n",
    "You are trying to improve the tools of a hospital by pre-processing the X-ray images so that doctors have a higher chance of spotting relevant details. You'll test our code on a chest X-ray image from the National Institutes of Health Chest X-Ray Dataset.       \n",
    "Image loaded as chest_xray_image.  \n",
    "First, you'll check the histogram of the image and then apply standard histogram equalization to improve the contrast. Remember we obtain the histogram by using the hist() function from Matplotlib, which has been already imported as plt.   \n",
    "\n",
    "### Instructions \n",
    "Import the required Scikit-image module for contrast.   \n",
    "Show the histogram from the original x-ray image chest_xray_image, using the hist() function.   \n",
    "Use histogram equalization on chest_xray_image to obtain the improved image and load it as xray_image_eq.  \n",
    "Show the resulting improved image xray_image_eq."
   ]
  },
  {
   "cell_type": "code",
   "execution_count": null,
   "metadata": {},
   "outputs": [],
   "source": [
    "# Import the required module\n",
    "from skimage import exposure\n",
    "\n",
    "# Show original x-ray image and its histogram\n",
    "show_image(chest_xray_image, 'Original x-ray')\n",
    "\n",
    "plt.title('Histogram of image')\n",
    "plt.hist(chest_xray_image.ravel(), bins=256)\n",
    "plt.show()\n",
    "\n",
    "# Use histogram equalization to improve the contrast\n",
    "xray_image_eq =  exposure.equalize_hist(chest_xray_image)\n",
    "\n",
    "# Show the resulting image\n",
    "show_image(xray_image_eq, 'Resulting image')"
   ]
  },
  {
   "cell_type": "markdown",
   "metadata": {},
   "source": [
    "### Aerial image\n",
    "In this exercise, we will improve the quality of an aerial image of a city. The image has low contrast and therefore we can not distinguish all the elements in it.   \n",
    "\n",
    "Image loaded as image_aerial.  \n",
    "For this we will use the normal or standard technique of Histogram Equalization.\n",
    "\n",
    "### Instructions\n",
    "Import the required module from scikit-image.   \n",
    "Use the histogram equalization function from the module previously imported.   \n",
    "Show the resulting image."
   ]
  },
  {
   "cell_type": "code",
   "execution_count": null,
   "metadata": {},
   "outputs": [],
   "source": [
    "# Import the required module\n",
    "from skimage import exposure\n",
    "\n",
    "# Use histogram equalization to improve the contrast\n",
    "image_eq = exposure.equalize_hist(image_aerial)\n",
    "\n",
    "# Show the original and resulting image\n",
    "show_image(image_aerial, 'Original')\n",
    "show_image(image_eq, 'Resulting image')"
   ]
  },
  {
   "cell_type": "markdown",
   "metadata": {},
   "source": [
    "### Let's add some impact and contrast\n",
    "Have you ever wanted to enhance the contrast of your photos so that they appear more dramatic?  \n",
    "\n",
    "In this exercise, you'll increase the contrast of a cup of coffee. Something you could share with your friends on social media. Don't forget to use #ImageProcessingDatacamp as hashtag!  \n",
    "\n",
    "Even though this is not our Sunday morning coffee cup, you can still apply the same methods to any of our photos.  \n",
    "\n",
    "A function called show_image(), that displays an image using Matplotlib, has already been defined.    \n",
    "It has the arguments image and title, with title being 'Original' by default.\n",
    "\n",
    "### Instructions\n",
    "Import the module that includes the Contrast Limited Adaptive Histogram Equalization (CLAHE) function.   \n",
    "Obtain the image you'll work on, with a cup of coffee in it, from the module that holds all the images for testing purposes.  \n",
    "From the previously imported module, call the function to apply the adaptive equalization method on the original image and set the clip limit to 0.03."
   ]
  },
  {
   "cell_type": "code",
   "execution_count": null,
   "metadata": {},
   "outputs": [],
   "source": [
    "# Import the necessary modules\n",
    "from skimage import data, exposure\n",
    "\n",
    "# Load the image\n",
    "original_image = data.coffee()\n",
    "\n",
    "# Apply the adaptive equalization on the original image\n",
    "adapthist_eq_image = exposure.equalize_adapthist(original_image, clip_limit=.03)\n",
    "\n",
    "# Compare the original image to the equalized\n",
    "show_image(original_image)\n",
    "show_image(adapthist_eq_image, '#ImageProcessingDatacamp')"
   ]
  },
  {
   "cell_type": "markdown",
   "metadata": {},
   "source": [
    "### Aliasing, rotating and rescaling\n",
    "Let's look at the impact of aliasing on images.  \n",
    "\n",
    "Remember that aliasing is an effect that causes different signals, in this case pixels, to become indistinguishable or distorted.  \n",
    "\n",
    "You'll make this cat image upright by rotating it 90 degrees and then rescaling it two times. Once with the anti aliasing filter applied before rescaling and a second time without it, so you can compare them.\n",
    "### Instructions\n",
    "Import the module and the rotating and rescaling functions.  \n",
    "Rotate the image 90 degrees clockwise.   \n",
    "Rescale the cat_image to be 4 times smaller and apply the anti aliasing filter. Set whether or not the image should be treated as multichannel (colored).   \n",
    "Rescale the rotated_cat_image to be 4 times smaller without applying an anti aliasing filter."
   ]
  },
  {
   "cell_type": "code",
   "execution_count": null,
   "metadata": {},
   "outputs": [],
   "source": [
    "# Import the module and the rotate and rescale functions\n",
    "from skimage.transform import rotate, rescale\n",
    "\n",
    "# Rotate the image 90 degrees clockwise \n",
    "rotated_cat_image = rotate(image_cat, -90)\n",
    "\n",
    "# Rescale with anti aliasing\n",
    "rescaled_with_aa = rescale(rotated_cat_image, 1/4, anti_aliasing=True, multichannel=True)\n",
    "\n",
    "# Rescale without anti aliasing\n",
    "rescaled_without_aa = rescale(rotated_cat_image, 1/4, anti_aliasing=False, multichannel=True)\n",
    "\n",
    "# Show the resulting images\n",
    "show_image(rescaled_with_aa, \"Transformed with anti aliasing\")\n",
    "show_image(rescaled_without_aa, \"Transformed without anti aliasing\")"
   ]
  },
  {
   "cell_type": "markdown",
   "metadata": {},
   "source": [
    "### Enlarging images\n",
    "Have you ever tried resizing an image to make it larger? This usually results in loss of quality, with the enlarged image looking blurry.   \n",
    "\n",
    "The good news is that the algorithm used by scikit-image works very well for enlarging images up to a certain point.  \n",
    "\n",
    "In this exercise you'll enlarge an image three times!!  \n",
    "\n",
    "You'll do this by rescaling the image of a rocket, that will be loaded from the data module.\n",
    "\n",
    "### Instructions\n",
    "Import the module and function needed to enlarge images, you'll do this by rescaling.  \n",
    "Import the data module.     \n",
    "Load the rocket() image from data.    \n",
    "Enlarge the rocket_image so it is 3 times bigger, with the anti aliasing filter applied. Make sure to set multichannel to True or you risk your session timing out!"
   ]
  },
  {
   "cell_type": "code",
   "execution_count": null,
   "metadata": {},
   "outputs": [],
   "source": [
    "# Import the module and function to enlarge images\n",
    "from skimage.transform import rescale\n",
    "\n",
    "# Import the data module\n",
    "from skimage import data\n",
    "\n",
    "# Load the image from data\n",
    "rocket_image = data.rocket()\n",
    "\n",
    "# Enlarge the image so it is 3 times bigger\n",
    "enlarged_rocket_image = rescale(rocket_image, 3, anti_aliasing=True, multichannel=True)\n",
    "\n",
    "# Show original and resulting image\n",
    "show_image(rocket_image)\n",
    "show_image(enlarged_rocket_image, \"3 times enlarged image\")"
   ]
  },
  {
   "cell_type": "markdown",
   "metadata": {},
   "source": [
    "### Proportionally resizing\n",
    "We want to downscale the images of a veterinary blog website so all of them have the same compressed size.   \n",
    "\n",
    "It's important that you do this proportionally, meaning that these are not distorted.  \n",
    "\n",
    "First, you'll try it out for one image so you know what code to test later in the rest of the pictures.  \n",
    "\n",
    "The image preloaded as dogs_banner.  \n",
    "Remember that by looking at the shape of the image, you can know its width and height.\n",
    "\n",
    "### Instructions\n",
    "Import the module and function to resize.  \n",
    "Set the proportional height and width so it is half the image's height size.  \n",
    "Resize using the calculated proportional height and width."
   ]
  },
  {
   "cell_type": "code",
   "execution_count": null,
   "metadata": {},
   "outputs": [],
   "source": [
    "# Import the module and function\n",
    "from skimage.transform import resize\n",
    "\n",
    "# Set proportional height so its half its size\n",
    "height = int(dogs_banner.shape[0] / 2)\n",
    "width = int(dogs_banner.shape[1] / 2)\n",
    "\n",
    "# Resize using the calculated proportional height and width\n",
    "image_resized = resize(dogs_banner, (height, width),\n",
    "                       anti_aliasing=True)\n",
    "\n",
    "# Show the original and rotated image\n",
    "show_image(dogs_banner, 'Original')\n",
    "show_image(image_resized, 'Resized image')"
   ]
  },
  {
   "cell_type": "markdown",
   "metadata": {},
   "source": [
    "### Handwritten letters\n",
    "A very interesting use of computer vision in real-life solutions is performing Optical Character Recognition (OCR) to distinguish printed or handwritten text characters inside digital images of physical documents.  \n",
    "\n",
    "Let's try to improve the definition of this handwritten letter so that it's easier to classify.  \n",
    "\n",
    "As we can see it's the letter R, already binary, with some noise in it. It's already loaded as upper_r_image.  \n",
    "\n",
    "Apply the morphological operation that will discard the pixels near the letter boundaries.\n",
    "\n",
    "### Instructions\n",
    "Import the module from scikit-image.  \n",
    "Apply the morphological operation for eroding away the boundaries of regions of foreground pixels."
   ]
  },
  {
   "cell_type": "code",
   "execution_count": null,
   "metadata": {},
   "outputs": [],
   "source": [
    "# Import the morphology module\n",
    "from skimage import morphology\n",
    "\n",
    "# Obtain the eroded shape \n",
    "eroded_image_shape = morphology.binary_erosion(upper_r_image) \n",
    "\n",
    "# See results\n",
    "show_image(upper_r_image, 'Original')\n",
    "show_image(eroded_image_shape, 'Eroded image')"
   ]
  },
  {
   "cell_type": "markdown",
   "metadata": {},
   "source": [
    "### Improving thresholded image\n",
    "In this exercise, we'll try to reduce the noise of a thresholded image using the dilation morphological operation.    \n",
    "\n",
    "Image already loaded as world_image.    \n",
    "This operation, in a way, expands the objects in the image.\n",
    "\n",
    "### Instructions\n",
    "Import the module.  \n",
    "Obtain the binarized and dilated image, from the original image world_image."
   ]
  },
  {
   "cell_type": "code",
   "execution_count": null,
   "metadata": {},
   "outputs": [],
   "source": [
    "# Import the module\n",
    "from skimage import morphology\n",
    "\n",
    "# Obtain the dilated image \n",
    "dilated_image = morphology.binary_dilation(world_image)\n",
    "\n",
    "# See results\n",
    "show_image(world_image, 'Original')\n",
    "show_image(dilated_image, 'Dilated image')"
   ]
  }
 ],
 "metadata": {
  "kernelspec": {
   "display_name": "Python 3",
   "language": "python",
   "name": "python3"
  },
  "language_info": {
   "codemirror_mode": {
    "name": "ipython",
    "version": 3
   },
   "file_extension": ".py",
   "mimetype": "text/x-python",
   "name": "python",
   "nbconvert_exporter": "python",
   "pygments_lexer": "ipython3",
   "version": "3.7.7"
  }
 },
 "nbformat": 4,
 "nbformat_minor": 4
}
