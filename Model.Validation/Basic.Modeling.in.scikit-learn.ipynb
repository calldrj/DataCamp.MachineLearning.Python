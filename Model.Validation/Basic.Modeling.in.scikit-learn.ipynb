{
 "cells": [
  {
   "cell_type": "markdown",
   "metadata": {},
   "source": [
    "### Set parameters and fit a model\n",
    "Predictive tasks fall into one of two categories: regression or classification. In the candy dataset, the outcome is a continuous variable describing how often the candy was chosen over another candy in a series of 1-on-1 match-ups. To predict this value (the win-percentage), you will use a regression model.   \n",
    "In this exercise, you will specify a few parameters using a random forest regression model rfr.\n",
    "### Instructions\n",
    "Add a parameter to rfr so that the number of trees built is 100 and the maximum depth of these trees is 6. \n",
    "Make sure the model is reproducible by adding a random state of 1111. \n",
    "Use the .fit() method to train the random forest regression model with X_train as the input data and y_train as the response. "
   ]
  },
  {
   "cell_type": "code",
   "execution_count": null,
   "metadata": {},
   "outputs": [],
   "source": [
    "# Set the number of trees for rfr a pre-defined RandomForestRegression\n",
    "rfr.n_estimators = 100\n",
    "\n",
    "# Add a maximum depth\n",
    "rfr.max_depth = 6\n",
    "\n",
    "# Set the random state\n",
    "rfr.random_state = 1111\n",
    "\n",
    "# Fit the model\n",
    "rfr.fit(X_train, y_train)"
   ]
  },
  {
   "cell_type": "markdown",
   "metadata": {},
   "source": [
    "### Feature importances\n",
    "Although some candy attributes, such as chocolate, may be extremely popular, it doesn't mean they will be important to model prediction.  \n",
    "After a random forest model has been fit, you can review the model's attribute, .feature_importances_, to see which variables had the biggest impact. You can check how important each variable was in the model by looping over the feature importance array using enumerate().     \n",
    "If you are unfamiliar with Python's enumerate() function, it can loop over a list while also creating an automatic counter. \n",
    "### Instructions\n",
    "Loop through the feature importance output of rfr.   \n",
    "Print the column names of X_train and the importance score for that column."
   ]
  },
  {
   "cell_type": "code",
   "execution_count": null,
   "metadata": {},
   "outputs": [],
   "source": [
    "# Fit the model using X and y\n",
    "rfr.fit(X_train, y_train)\n",
    "\n",
    "# Print how important each column is to the model\n",
    "for i, item in enumerate(rfr.feature_importances_):\n",
    "      # Use i and item to print out the feature importance of each column\n",
    "    print(\"{0:s}: {1:.2f}\".format(X_train.columns[i], item))"
   ]
  },
  {
   "cell_type": "markdown",
   "metadata": {},
   "source": [
    "### Classification predictions\n",
    "In model validation, it is often important to know more about the predictions than just the final classification. When predicting who will win a game, most people are also interested in how likely it is a team will win.   \n",
    "Probability\tPrediction\tMeaning:     \n",
    "0 < .50\t 0\tTeam Loses  \n",
    ".50 +\t 1\tTeam Wins  \n",
    "In this exercise, you look at the methods, .predict() and .predict_proba() using the tic_tac_toe dataset. The first method will give a prediction of whether Player One will win the game, and the second method will provide the probability of Player One winning. Use rfc as the random forest classification model. \n",
    "### Instructions\n",
    "Create two arrays of predictions. One for the classification values and one for the predicted probabilities.\n",
    "Use the .value_counts() method for a pandas Series to print the number of observations that were assigned to each class.    \n",
    "Print the first observation of probability_predictions to see how the probabilities are structured."
   ]
  },
  {
   "cell_type": "code",
   "execution_count": null,
   "metadata": {},
   "outputs": [],
   "source": [
    "# Fit the rfc model. \n",
    "rfc.fit(X_train, y_train)\n",
    "\n",
    "# Create arrays of predictions\n",
    "classification_predictions = rfc.predict(X_test)\n",
    "probability_predictions = rfc.predict_proba(X_test)\n",
    "\n",
    "# Print out count of binary predictions\n",
    "print(pd.Series(classification_predictions).value_counts())\n",
    "\n",
    "# Print the first value from probability_predictions\n",
    "print('The first predicted probabilities are: {}'.format(probability_predictions[0]))\n",
    "\n",
    "\"\"\" You can see there were 563 observations where Player One was predicted to win the \n",
    "Tic-Tac-Toe game. Also, note that the predicted_probabilities array contains lists \n",
    "with only two values because you only have two possible responses (win or lose). \n",
    "Remember these two methods, as you will use them a lot throughout this course.\n",
    "\"\"\""
   ]
  },
  {
   "cell_type": "markdown",
   "metadata": {},
   "source": [
    "### Reusing model parameters\n",
    "Replicating model performance is vital in model validation. Replication is also important when sharing models with co-workers, reusing models on new data or asking questions on a website such as Stack Overflow.    \n",
    "You might use such a site to ask other coders about model errors, output, or performance. The best way to do this is to replicate your work by reusing model parameters.  \n",
    "In this exercise, you use various methods to recall which parameters were used in a model.\n",
    "\n",
    "### Instructions\n",
    "Print out the characteristics of the model rfc by simply printing the model.   \n",
    "Print just the random state of the model.  \n",
    "Print the dictionary of model parameters.  "
   ]
  },
  {
   "cell_type": "code",
   "execution_count": null,
   "metadata": {},
   "outputs": [],
   "source": [
    "# rfc a pre-defined RandomForestClassifier\n",
    "rfc = RandomForestClassifier(n_estimators=50, max_depth=6, random_state=1111)\n",
    "\n",
    "# Print the classification model\n",
    "print(rfc)\n",
    "\n",
    "# Print the classification model's random state parameter\n",
    "print('The random state is: {}'.format(rfc.random_state))\n",
    "\n",
    "# Print all parameters\n",
    "print('Printing the parameters dictionary: {}'.format(rfc.get_params()))"
   ]
  },
  {
   "cell_type": "markdown",
   "metadata": {},
   "source": [
    "### Random forest classifier\n",
    "This exercise reviews the four modeling steps discussed throughout this chapter using a random forest classification model. You will:   \n",
    "Create a random forest classification model.   \n",
    "Fit the model using the tic_tac_toe dataset.   \n",
    "Make predictions on whether Player One will win (1) or lose (0) the current game.  \n",
    "Finally, you will evaluate the overall accuracy of the model.  \n",
    "Let's get started!  \n",
    "### Instructions\n",
    "Create rfc using the scikit-learn implementation of random forest classifiers and set a random state of 1111."
   ]
  },
  {
   "cell_type": "code",
   "execution_count": null,
   "metadata": {},
   "outputs": [],
   "source": [
    "from sklearn.ensemble import RandomForestClassifier\n",
    "\n",
    "# Create a random forest classifier\n",
    "rfc = RandomForestClassifier(n_estimators=50, max_depth=6, random_state=1111)\n",
    "\n",
    "# Fit rfc using X_train and y_train\n",
    "rfc.fit(X_train, y_train)\n",
    "\n",
    "# Create predictions on X_test\n",
    "predictions = rfc.predict(X_test)\n",
    "print(predictions[0:5])\n",
    "\n",
    "# Print model accuracy using score() and the testing data\n",
    "print(rfc.score(X_test, y_test))"
   ]
  }
 ],
 "metadata": {
  "kernelspec": {
   "display_name": "Python 3",
   "language": "python",
   "name": "python3"
  },
  "language_info": {
   "codemirror_mode": {
    "name": "ipython",
    "version": 3
   },
   "file_extension": ".py",
   "mimetype": "text/x-python",
   "name": "python",
   "nbconvert_exporter": "python",
   "pygments_lexer": "ipython3",
   "version": "3.7.7"
  }
 },
 "nbformat": 4,
 "nbformat_minor": 4
}
