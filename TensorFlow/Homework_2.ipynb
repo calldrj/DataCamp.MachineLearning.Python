{
 "cells": [
  {
   "cell_type": "markdown",
   "metadata": {},
   "source": [
    "### Problem 3.5\n",
    "(Geometry: area of a regular polygon) A regular polygon is an n-sided polygon in which all sides are of the same length and all angles have the same degree (i.e., the polygon is both equilateral and equiangular). \n",
    "The formula for computing the area of a regular polygon is\n",
    "Area = n * (s^2) 4 * tan(pi/n)   \n",
    "Here, s is the length of a side.   \n",
    "Write a program that prompts the user to enter the number of sides and their length of a regular polygon and displays its area. "
   ]
  },
  {
   "cell_type": "code",
   "execution_count": 2,
   "metadata": {},
   "outputs": [
    {
     "name": "stdout",
     "output_type": "stream",
     "text": [
      "Enter the number of sides: 5\n",
      "Enter the side: 6.5\n"
     ]
    }
   ],
   "source": [
    "n = eval(input('Enter the number of sides: '))\n",
    "s = eval(input('Enter the side: '))"
   ]
  },
  {
   "cell_type": "code",
   "execution_count": null,
   "metadata": {},
   "outputs": [],
   "source": [
    "import math\n",
    "area = ((s/2)**2) * (n / math.tan(math.pi / n))\n",
    "print('The area of the polygon is ' + str(area))"
   ]
  },
  {
   "cell_type": "markdown",
   "metadata": {},
   "source": [
    "### Problem 4.25 \n",
    "Write a program that prompts the user to enter four points and displays the intersecting point."
   ]
  },
  {
   "cell_type": "code",
   "execution_count": 10,
   "metadata": {},
   "outputs": [
    {
     "name": "stdout",
     "output_type": "stream",
     "text": [
      "Enter x1, y1, x2, y2, x3, y3, x4, y4: 2, 2, 5, -1, 4, 2, -1, -2\n"
     ]
    }
   ],
   "source": [
    "x1, y1, x2, y2, x3, y3, x4, y4 = eval(input('Enter x1, y1, x2, y2, x3, y3, x4, y4: '))"
   ]
  },
  {
   "cell_type": "code",
   "execution_count": 18,
   "metadata": {},
   "outputs": [
    {
     "name": "stdout",
     "output_type": "stream",
     "text": [
      "The intersecting point is at (2.889, 1.111)\n"
     ]
    }
   ],
   "source": [
    "a = y1 - y2\n",
    "b = x2 - x1\n",
    "c = y3 - y4\n",
    "d = x4 - x3\n",
    "e = a * x1 + b * y1\n",
    "f = c * x3 + d * y3\n",
    "delta = a * d - b * c\n",
    "\n",
    "if delta == 0:\n",
    "    print('The two lines are parallel')\n",
    "else:\n",
    "    x = (e * d - b * f) / delta\n",
    "    y = (a * f - e * c) / delta\n",
    "    print('The intersecting point is at ({:.3f}, {:.3f})'.format(x, y))\n",
    "    "
   ]
  },
  {
   "cell_type": "markdown",
   "metadata": {},
   "source": [
    "### Problem 4.31\n",
    "Given a directed line from point p0(x0, y0) to p1(x1, y1), you can use the following condition to decide whether a point p2(x2, y2) is on the left side of the line, on the right side of the line, or on the same line (see Figure 4.12):"
   ]
  },
  {
   "cell_type": "code",
   "execution_count": 26,
   "metadata": {},
   "outputs": [
    {
     "name": "stdout",
     "output_type": "stream",
     "text": [
      "Enter coordinates for the three points p0, p1, and p2:3.4, 2, 6.5, 9.5, 5, 2.5\n"
     ]
    }
   ],
   "source": [
    "x0, y0, x1, y1, x2, y2 = eval(input('Enter coordinates for the three points p0, p1, and p2:'))"
   ]
  },
  {
   "cell_type": "code",
   "execution_count": 27,
   "metadata": {},
   "outputs": [
    {
     "name": "stdout",
     "output_type": "stream",
     "text": [
      "p2 is on the right side of the line\n"
     ]
    }
   ],
   "source": [
    "dx_10 = x1 - x0\n",
    "dx_20 = x2 - x0\n",
    "dy_10 = y1 - y0\n",
    "dy_20 = y2 - y0\n",
    "delta = dx_10 * dy_20 - dx_20 * dy_10\n",
    "\n",
    "if delta > 0:\n",
    "    print('p2 is on the left side of the line')\n",
    "elif delta == 0:\n",
    "    print('p2 is on the same side of the line')\n",
    "else:\n",
    "    print('p2 is on the right side of the line')"
   ]
  }
 ],
 "metadata": {
  "kernelspec": {
   "display_name": "Python 3",
   "language": "python",
   "name": "python3"
  },
  "language_info": {
   "codemirror_mode": {
    "name": "ipython",
    "version": 3
   },
   "file_extension": ".py",
   "mimetype": "text/x-python",
   "name": "python",
   "nbconvert_exporter": "python",
   "pygments_lexer": "ipython3",
   "version": "3.7.7"
  }
 },
 "nbformat": 4,
 "nbformat_minor": 4
}
